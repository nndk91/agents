{
 "cells": [
  {
   "cell_type": "markdown",
   "metadata": {},
   "source": [
    "# Welcome to the start of your adventure in Agentic AI"
   ]
  },
  {
   "cell_type": "markdown",
   "metadata": {},
   "source": [
    "<table style=\"margin: 0; text-align: left; width:100%\">\n",
    "    <tr>\n",
    "        <td style=\"width: 150px; height: 150px; vertical-align: middle;\">\n",
    "            <img src=\"../assets/stop.png\" width=\"150\" height=\"150\" style=\"display: block;\" />\n",
    "        </td>\n",
    "        <td>\n",
    "            <h2 style=\"color:#ff7800;\">Are you ready for action??</h2>\n",
    "            <span style=\"color:#ff7800;\">Have you completed all the setup steps in the <a href=\"../setup/\">setup</a> folder?<br/>\n",
    "            Have you checked out the guides in the <a href=\"../guides/\">guides</a> folder?<br/>\n",
    "            Well in that case, you're ready!!\n",
    "            </span>\n",
    "        </td>\n",
    "    </tr>\n",
    "</table>"
   ]
  },
  {
   "cell_type": "markdown",
   "metadata": {},
   "source": [
    "<table style=\"margin: 0; text-align: left; width:100%\">\n",
    "    <tr>\n",
    "        <td style=\"width: 150px; height: 150px; vertical-align: middle;\">\n",
    "            <img src=\"../assets/tools.png\" width=\"150\" height=\"150\" style=\"display: block;\" />\n",
    "        </td>\n",
    "        <td>\n",
    "            <h2 style=\"color:#00bfff;\">Treat these labs as a resource</h2>\n",
    "            <span style=\"color:#00bfff;\">I push updates to the code regularly. When people ask questions or have problems, I incorporate it in the code, adding more examples or improved commentary. As a result, you'll notice that the code below isn't identical to the videos. Everything from the videos is here; but in addition, I've added more steps and better explanations. Consider this like an interactive book that accompanies the lectures.\n",
    "            </span>\n",
    "        </td>\n",
    "    </tr>\n",
    "</table>"
   ]
  },
  {
   "cell_type": "markdown",
   "metadata": {},
   "source": [
    "### And please do remember to contact me if I can help\n",
    "\n",
    "And I love to connect: https://www.linkedin.com/in/eddonner/\n",
    "\n",
    "\n",
    "### New to Notebooks like this one? Head over to the guides folder!\n",
    "\n",
    "Otherwise:\n",
    "1. Click where it says \"Select Kernel\" near the top right, and select the option called `.venv (Python 3.12.9)` or similar, which should be the first choice or the most prominent choice.\n",
    "2. Click in each \"cell\" below, starting with the cell immediately below this text, and press Shift+Enter to run\n",
    "3. Enjoy!"
   ]
  },
  {
   "cell_type": "code",
   "execution_count": 1,
   "metadata": {},
   "outputs": [],
   "source": [
    "# First let's do an import\n",
    "from dotenv import load_dotenv\n"
   ]
  },
  {
   "cell_type": "code",
   "execution_count": 2,
   "metadata": {},
   "outputs": [
    {
     "data": {
      "text/plain": [
       "True"
      ]
     },
     "execution_count": 2,
     "metadata": {},
     "output_type": "execute_result"
    }
   ],
   "source": [
    "# Next it's time to load the API keys into environment variables\n",
    "\n",
    "load_dotenv(override=True)"
   ]
  },
  {
   "cell_type": "code",
   "execution_count": 5,
   "metadata": {},
   "outputs": [
    {
     "name": "stdout",
     "output_type": "stream",
     "text": [
      "OpenAI API Key exists and begins sk-proj-\n"
     ]
    }
   ],
   "source": [
    "# Check the keys\n",
    "\n",
    "import os\n",
    "openai_api_key = os.getenv('OPENAI_API_KEY')\n",
    "\n",
    "if openai_api_key:\n",
    "    print(f\"OpenAI API Key exists and begins {openai_api_key[:8]}\")\n",
    "else:\n",
    "    print(\"OpenAI API Key not set - please head to the troubleshooting guide in the guides folder\")\n",
    "    \n"
   ]
  },
  {
   "cell_type": "code",
   "execution_count": 6,
   "metadata": {},
   "outputs": [],
   "source": [
    "# And now - the all important import statement\n",
    "# If you get an import error - head over to troubleshooting guide\n",
    "\n",
    "from openai import OpenAI"
   ]
  },
  {
   "cell_type": "code",
   "execution_count": 7,
   "metadata": {},
   "outputs": [],
   "source": [
    "# And now we'll create an instance of the OpenAI class\n",
    "# If you're not sure what it means to create an instance of a class - head over to the guides folder!\n",
    "# If you get a NameError - head over to the guides folder to learn about NameErrors\n",
    "\n",
    "openai = OpenAI()"
   ]
  },
  {
   "cell_type": "code",
   "execution_count": 9,
   "metadata": {},
   "outputs": [],
   "source": [
    "# Create a list of messages in the familiar OpenAI format\n",
    "\n",
    "messages = [{\"role\": \"user\", \"content\": \"What is 2+2?\"}]"
   ]
  },
  {
   "cell_type": "code",
   "execution_count": 10,
   "metadata": {},
   "outputs": [
    {
     "name": "stdout",
     "output_type": "stream",
     "text": [
      "2 + 2 equals 4.\n"
     ]
    }
   ],
   "source": [
    "# And now call it! Any problems, head to the troubleshooting guide\n",
    "\n",
    "response = openai.chat.completions.create(\n",
    "    model=\"gpt-4o-mini\",\n",
    "    messages=messages\n",
    ")\n",
    "\n",
    "print(response.choices[0].message.content)\n"
   ]
  },
  {
   "cell_type": "code",
   "execution_count": null,
   "metadata": {},
   "outputs": [],
   "source": []
  },
  {
   "cell_type": "code",
   "execution_count": 11,
   "metadata": {},
   "outputs": [],
   "source": [
    "# And now - let's ask for a question:\n",
    "\n",
    "question = \"Please propose a hard, challenging question to assess someone's IQ. Respond only with the question.\"\n",
    "messages = [{\"role\": \"user\", \"content\": question}]\n"
   ]
  },
  {
   "cell_type": "code",
   "execution_count": 12,
   "metadata": {},
   "outputs": [
    {
     "name": "stdout",
     "output_type": "stream",
     "text": [
      "You have 12 identical-looking coins, but one of them is either heavier or lighter than the others. Using a balance scale, how can you determine which coin is the odd one out and whether it is heavier or lighter, using only three weighings?\n"
     ]
    }
   ],
   "source": [
    "# ask it\n",
    "response = openai.chat.completions.create(\n",
    "    model=\"gpt-4o-mini\",\n",
    "    messages=messages\n",
    ")\n",
    "\n",
    "question = response.choices[0].message.content\n",
    "\n",
    "print(question)\n"
   ]
  },
  {
   "cell_type": "code",
   "execution_count": 13,
   "metadata": {},
   "outputs": [],
   "source": [
    "# form a new messages list\n",
    "messages = [{\"role\": \"user\", \"content\": question}]\n"
   ]
  },
  {
   "cell_type": "code",
   "execution_count": 15,
   "metadata": {},
   "outputs": [
    {
     "name": "stdout",
     "output_type": "stream",
     "text": [
      "To determine which coin is the odd one (either heavier or lighter) out of 12 identical-looking coins using only three weighings on a balance scale, you can follow this strategic approach:\n",
      "\n",
      "### Weighing Strategy:\n",
      "1. **Divide the Coins**:\n",
      "   - Label the coins from 1 to 12.\n",
      "   - Divide them into three groups of four coins each:\n",
      "     - Group A: Coins 1, 2, 3, 4\n",
      "     - Group B: Coins 5, 6, 7, 8\n",
      "     - Group C: Coins 9, 10, 11, 12\n",
      "\n",
      "2. **First Weighing** (Group A vs. Group B):\n",
      "   - Weigh Group A (1, 2, 3, 4) against Group B (5, 6, 7, 8).\n",
      "   - There are three possible outcomes:\n",
      "     - **Balance:** This means all coins in Groups A and B are normal, so the odd coin is in Group C (9, 10, 11, 12).\n",
      "     - **Left side heavier:** This indicates either one of the coins in Group A is heavier, or one in Group B is lighter.\n",
      "     - **Right side heavier:** This indicates either one of the coins in Group B is heavier, or one in Group A is lighter.\n",
      "\n",
      "3. **Second Weighing** (Narrowing it down):\n",
      "   - Based on the outcome of the first weighing, choose the appropriate group to further investigate:\n",
      "\n",
      "   **Case 1**: If Group A and Group B balanced:  \n",
      "   - Weigh coins 9, 10 against 11, 12.\n",
      "     - **Balance:** Coin 9 is normal, Coin 10 is normal, Coin 11 and Coin 12 must be the odd one.\n",
      "     - **Left side heavier:** Coin 11 is heavier or Coin 10 is lighter.\n",
      "     - **Right side heavier:** Coin 12 is heavier or Coin 10 is lighter.\n",
      "\n",
      "   **Case 2**: If Group A is heavier:\n",
      "   - Weigh coin 1, 2 against coin 5, 6 (from Group B, which was lighter).\n",
      "     - **Balance:** Coin 3 or 4 is the odd one out (it’s heavier).\n",
      "     - **Left side heavier:** Coin 1 or 2 is heavier, or Coin 5, 6 is lighter (we know it’s lighter).\n",
      "     - **Right side heavier:** Coin 5, 6 is not the odd one out; now we know that one of Coin 1, 2 is heavier or Coin 5, 6 is normal.\n",
      "\n",
      "   **Case 3**: If Group B is heavier:\n",
      "   - Weigh coin 5, 6 against coin 1, 2 (from Group A, which is lighter).\n",
      "     - **Balance:** Coin 7 or 8 is the odd one out (it is heavier).\n",
      "     - **Left side heavier:** Coin 5 or 6 is heavier, or Coin 1, 2 is lighter (which we know).\n",
      "     - **Right side heavier:** Coin 1, 2 is not the odd one out, now we know that one of Coin 5, 6 is heavier or Coin 1, 2 is normal.\n",
      "\n",
      "4. **Third Weighing**:\n",
      "   - After the second weighing, you will have narrowed it down to at most three coins, either determining a specific coin or limiting to two coins (one of which is heavier, the other lighter).\n",
      "\n",
      "   **Follow Up with Equipment**:\n",
      "   - For example, after seeing the outcome of the second weighing, simply weigh the suspicious coins against known normal coins or each other.\n",
      "\n",
      "Using this step-by-step weighing approach, you can definitively determine the odd coin and whether it is heavier or lighter within three weighings.\n"
     ]
    }
   ],
   "source": [
    "# Ask it again\n",
    "\n",
    "response = openai.chat.completions.create(\n",
    "    model=\"gpt-4o-mini\",\n",
    "    messages=messages\n",
    ")\n",
    "\n",
    "answer = response.choices[0].message.content\n",
    "print(answer)\n"
   ]
  },
  {
   "cell_type": "code",
   "execution_count": 16,
   "metadata": {},
   "outputs": [
    {
     "data": {
      "text/markdown": [
       "To determine which coin is the odd one (either heavier or lighter) out of 12 identical-looking coins using only three weighings on a balance scale, you can follow this strategic approach:\n",
       "\n",
       "### Weighing Strategy:\n",
       "1. **Divide the Coins**:\n",
       "   - Label the coins from 1 to 12.\n",
       "   - Divide them into three groups of four coins each:\n",
       "     - Group A: Coins 1, 2, 3, 4\n",
       "     - Group B: Coins 5, 6, 7, 8\n",
       "     - Group C: Coins 9, 10, 11, 12\n",
       "\n",
       "2. **First Weighing** (Group A vs. Group B):\n",
       "   - Weigh Group A (1, 2, 3, 4) against Group B (5, 6, 7, 8).\n",
       "   - There are three possible outcomes:\n",
       "     - **Balance:** This means all coins in Groups A and B are normal, so the odd coin is in Group C (9, 10, 11, 12).\n",
       "     - **Left side heavier:** This indicates either one of the coins in Group A is heavier, or one in Group B is lighter.\n",
       "     - **Right side heavier:** This indicates either one of the coins in Group B is heavier, or one in Group A is lighter.\n",
       "\n",
       "3. **Second Weighing** (Narrowing it down):\n",
       "   - Based on the outcome of the first weighing, choose the appropriate group to further investigate:\n",
       "\n",
       "   **Case 1**: If Group A and Group B balanced:  \n",
       "   - Weigh coins 9, 10 against 11, 12.\n",
       "     - **Balance:** Coin 9 is normal, Coin 10 is normal, Coin 11 and Coin 12 must be the odd one.\n",
       "     - **Left side heavier:** Coin 11 is heavier or Coin 10 is lighter.\n",
       "     - **Right side heavier:** Coin 12 is heavier or Coin 10 is lighter.\n",
       "\n",
       "   **Case 2**: If Group A is heavier:\n",
       "   - Weigh coin 1, 2 against coin 5, 6 (from Group B, which was lighter).\n",
       "     - **Balance:** Coin 3 or 4 is the odd one out (it’s heavier).\n",
       "     - **Left side heavier:** Coin 1 or 2 is heavier, or Coin 5, 6 is lighter (we know it’s lighter).\n",
       "     - **Right side heavier:** Coin 5, 6 is not the odd one out; now we know that one of Coin 1, 2 is heavier or Coin 5, 6 is normal.\n",
       "\n",
       "   **Case 3**: If Group B is heavier:\n",
       "   - Weigh coin 5, 6 against coin 1, 2 (from Group A, which is lighter).\n",
       "     - **Balance:** Coin 7 or 8 is the odd one out (it is heavier).\n",
       "     - **Left side heavier:** Coin 5 or 6 is heavier, or Coin 1, 2 is lighter (which we know).\n",
       "     - **Right side heavier:** Coin 1, 2 is not the odd one out, now we know that one of Coin 5, 6 is heavier or Coin 1, 2 is normal.\n",
       "\n",
       "4. **Third Weighing**:\n",
       "   - After the second weighing, you will have narrowed it down to at most three coins, either determining a specific coin or limiting to two coins (one of which is heavier, the other lighter).\n",
       "\n",
       "   **Follow Up with Equipment**:\n",
       "   - For example, after seeing the outcome of the second weighing, simply weigh the suspicious coins against known normal coins or each other.\n",
       "\n",
       "Using this step-by-step weighing approach, you can definitively determine the odd coin and whether it is heavier or lighter within three weighings."
      ],
      "text/plain": [
       "<IPython.core.display.Markdown object>"
      ]
     },
     "metadata": {},
     "output_type": "display_data"
    }
   ],
   "source": [
    "from IPython.display import Markdown, display\n",
    "\n",
    "display(Markdown(answer))\n",
    "\n"
   ]
  },
  {
   "cell_type": "markdown",
   "metadata": {},
   "source": [
    "# Congratulations!\n",
    "\n",
    "That was a small, simple step in the direction of Agentic AI, with your new environment!\n",
    "\n",
    "Next time things get more interesting..."
   ]
  },
  {
   "cell_type": "markdown",
   "metadata": {},
   "source": [
    "<table style=\"margin: 0; text-align: left; width:100%\">\n",
    "    <tr>\n",
    "        <td style=\"width: 150px; height: 150px; vertical-align: middle;\">\n",
    "            <img src=\"../assets/exercise.png\" width=\"150\" height=\"150\" style=\"display: block;\" />\n",
    "        </td>\n",
    "        <td>\n",
    "            <h2 style=\"color:#ff7800;\">Exercise</h2>\n",
    "            <span style=\"color:#ff7800;\">Now try this commercial application:<br/>\n",
    "            First ask the LLM to pick a business area that might be worth exploring for an Agentic AI opportunity.<br/>\n",
    "            Then ask the LLM to present a pain-point in that industry - something challenging that might be ripe for an Agentic solution.<br/>\n",
    "            Finally have 3 third LLM call propose the Agentic AI solution.\n",
    "            </span>\n",
    "        </td>\n",
    "    </tr>\n",
    "</table>"
   ]
  },
  {
   "cell_type": "code",
   "execution_count": null,
   "metadata": {},
   "outputs": [],
   "source": [
    "# First create the messages:\n",
    "\n",
    "messages = [{\"role\": \"user\", \"content\": \"Something here\"}]\n",
    "\n",
    "# Then make the first call:\n",
    "\n",
    "response =\n",
    "\n",
    "# Then read the business idea:\n",
    "\n",
    "business_idea = response.\n",
    "\n",
    "# And repeat!"
   ]
  },
  {
   "cell_type": "markdown",
   "metadata": {},
   "source": []
  }
 ],
 "metadata": {
  "kernelspec": {
   "display_name": "llms",
   "language": "python",
   "name": "python3"
  },
  "language_info": {
   "codemirror_mode": {
    "name": "ipython",
    "version": 3
   },
   "file_extension": ".py",
   "mimetype": "text/x-python",
   "name": "python",
   "nbconvert_exporter": "python",
   "pygments_lexer": "ipython3",
   "version": "3.12.9"
  }
 },
 "nbformat": 4,
 "nbformat_minor": 2
}
